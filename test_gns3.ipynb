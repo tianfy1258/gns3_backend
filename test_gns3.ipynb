{
 "cells": [
  {
   "cell_type": "code",
   "execution_count": 145,
   "metadata": {
    "collapsed": true,
    "pycharm": {
     "name": "#%%\n"
    }
   },
   "outputs": [],
   "source": [
    "import json.decoder\n",
    "\n",
    "from aim.network import gns3\n",
    "# reload the module\n",
    "import importlib\n",
    "\n",
    "importlib.reload(gns3)\n",
    "from aim.network.gns3 import *"
   ]
  },
  {
   "cell_type": "code",
   "execution_count": 146,
   "metadata": {
    "collapsed": false,
    "pycharm": {
     "name": "#%%\n"
    }
   },
   "outputs": [
    {
     "name": "stdout",
     "output_type": "stream",
     "text": [
      "<Project test closed>\n"
     ]
    },
    {
     "data": {
      "text/plain": [
       "[<Node PC1 stopped>, <Node PC2 stopped>]"
      ]
     },
     "execution_count": 146,
     "metadata": {},
     "output_type": "execute_result"
    }
   ],
   "source": [
    "server = Server('localhost', 80)\n",
    "server.get_project_by_name('test')\n",
    "project = server.get_projects()[0]\n",
    "print(project)\n",
    "project.open()\n",
    "project.get_nodes()\n"
   ]
  },
  {
   "cell_type": "code",
   "execution_count": null,
   "metadata": {
    "collapsed": false,
    "pycharm": {
     "name": "#%%\n"
    }
   },
   "outputs": [],
   "source": [
    "project.create_node('vpcs', 'PC 1')\n"
   ]
  },
  {
   "cell_type": "code",
   "execution_count": 119,
   "metadata": {
    "collapsed": false,
    "pycharm": {
     "name": "#%%\n"
    }
   },
   "outputs": [],
   "source": [
    "# start all nodes\n",
    "nodes = project.get_nodes()\n",
    "for node in nodes:\n",
    "    node.start()"
   ]
  },
  {
   "cell_type": "code",
   "execution_count": 109,
   "metadata": {
    "collapsed": false,
    "pycharm": {
     "name": "#%%\n"
    }
   },
   "outputs": [],
   "source": [
    "# create link\n",
    "pc1 = project.get_node_by_name('PC1')\n",
    "pc2 = project.get_node_by_name('PC2')\n",
    "source = LinkNode(pc1.node_id, 0, 0)\n",
    "dest = LinkNode(pc2.node_id, 0, 0)\n",
    "link = project.create_link(source, dest)"
   ]
  },
  {
   "cell_type": "code",
   "execution_count": 18,
   "metadata": {
    "collapsed": false,
    "pycharm": {
     "name": "#%%\n"
    }
   },
   "outputs": [
    {
     "name": "stderr",
     "output_type": "stream",
     "text": [
      "[I 230626 21:40:43 __init__:932] Pulling ProjectList ...\n",
      "[D 230626 21:40:43 __init__:57] Request sent: GET http://localhost:3080/v2/projects\n",
      "[D 230626 21:40:43 __init__:59] Request status: 200 OK\n"
     ]
    },
    {
     "name": "stdout",
     "output_type": "stream",
     "text": [
      "1 Project(name='project1', project_id='7ab112d2-6113-4887-a159-743ae4b07dc6', auto_close=True, auto_open=False, auto_start=False, drawing_grid_size=25, filename='project1.gns3', grid_size=75, path='C:\\\\Users\\\\Junk\\\\GNS3\\\\projects\\\\7ab112d2-6113-4887-a159-743ae4b07dc6', scene_height=1000, scene_width=2000, show_grid=False, show_interface_labels=True, show_layers=False, snap_to_grid=False, status='opened', supplier=None, variables=None, zoom=100)\n",
      "1 name project1\n",
      "1 auto_close True\n",
      "1 auto_open False\n",
      "1 auto_start False\n",
      "1 drawing_grid_size 25\n",
      "1 grid_size 75\n",
      "1 path C:\\Users\\Junk\\GNS3\\projects\\7ab112d2-6113-4887-a159-743ae4b07dc6\n",
      "1 scene_height 1000\n",
      "1 scene_width 2000\n",
      "1 show_grid False\n",
      "1 show_interface_labels True\n",
      "1 show_layers False\n",
      "1 snap_to_grid False\n",
      "1 zoom 100\n"
     ]
    },
    {
     "name": "stderr",
     "output_type": "stream",
     "text": [
      "[I 230626 21:40:43 __init__:932] Pulling LinkList ...\n",
      "[D 230626 21:40:43 __init__:57] Request sent: GET http://localhost:3080/v2/projects/7ab112d2-6113-4887-a159-743ae4b07dc6/links\n",
      "[D 230626 21:40:43 __init__:59] Request status: 200 OK\n",
      "[I 230626 21:40:43 __init__:932] Pulling NodeList ...\n",
      "[D 230626 21:40:43 __init__:57] Request sent: GET http://localhost:3080/v2/projects/7ab112d2-6113-4887-a159-743ae4b07dc6/nodes\n",
      "[D 230626 21:40:43 __init__:59] Request status: 200 OK\n"
     ]
    },
    {
     "name": "stdout",
     "output_type": "stream",
     "text": [
      "{'adapter_number': 0, 'data_link_types': {'Ethernet': 'DLT_EN10MB'}, 'link_type': 'ethernet', 'name': 'FastEthernet0/0', 'port_number': 0, 'short_name': 'f0/0'}\n",
      "{'adapter_number': 0, 'data_link_types': {'Ethernet': 'DLT_EN10MB'}, 'link_type': 'ethernet', 'name': 'FastEthernet0/1', 'port_number': 1, 'short_name': 'f0/1'}\n",
      "3 name R2\n",
      "3 node_type dynamips\n",
      "3 compute_id vm\n",
      "3 console_auto_start False\n",
      "3 console_type telnet\n",
      "3 custom_adapters []\n",
      "3 label {'rotation': 0, 'style': 'font-family: TypeWriter;font-size: 10.0;font-weight: bold;fill: #000000;fill-opacity: 1.0;', 'text': 'R2', 'x': 22, 'y': -25}\n",
      "3 locked False\n",
      "3 port_name_format Ethernet{0}\n",
      "3 port_segment_size 0\n",
      "3 properties {'auto_delete_disks': True, 'aux': None, 'clock_divisor': 8, 'disk0': 0, 'disk1': 0, 'dynamips_id': 2, 'exec_area': 64, 'idlemax': 500, 'idlepc': '0x60c086a8', 'idlesleep': 30, 'image': 'c3725-adventerprisek9-mz.124-15.T14.image', 'image_md5sum': '64f8c427ed48fd21bd02cf1ff254c4eb', 'iomem': 5, 'mac_addr': 'c202.07fe.0000', 'mmap': True, 'nvram': 256, 'platform': 'c3725', 'ram': 128, 'slot0': 'GT96100-FE', 'slot1': None, 'slot2': None, 'sparsemem': True, 'system_id': 'FTX0945W0MY', 'usage': '', 'wic0': None, 'wic1': None, 'wic2': None}\n",
      "3 symbol :/symbols/router.svg\n",
      "3 x -120\n",
      "3 y -78\n",
      "3 z 1\n",
      "{'adapter_number': 0, 'data_link_types': {'Ethernet': 'DLT_EN10MB'}, 'link_type': 'ethernet', 'name': 'FastEthernet0/0', 'port_number': 0, 'short_name': 'f0/0'}\n",
      "{'adapter_number': 0, 'data_link_types': {'Ethernet': 'DLT_EN10MB'}, 'link_type': 'ethernet', 'name': 'FastEthernet0/1', 'port_number': 1, 'short_name': 'f0/1'}\n",
      "3 name R1\n",
      "3 node_type dynamips\n",
      "3 compute_id vm\n",
      "3 console_auto_start False\n",
      "3 console_type telnet\n",
      "3 custom_adapters []\n",
      "3 label {'rotation': 0, 'style': 'font-family: TypeWriter;font-size: 10.0;font-weight: bold;fill: #000000;fill-opacity: 1.0;', 'text': 'R1', 'x': 22, 'y': -25}\n",
      "3 locked False\n",
      "3 port_name_format Ethernet{0}\n",
      "3 port_segment_size 0\n",
      "3 properties {'auto_delete_disks': True, 'aux': None, 'clock_divisor': 8, 'disk0': 0, 'disk1': 0, 'dynamips_id': 1, 'exec_area': 64, 'idlemax': 500, 'idlepc': '0x60c086a8', 'idlesleep': 30, 'image': 'c3725-adventerprisek9-mz.124-15.T14.image', 'image_md5sum': '64f8c427ed48fd21bd02cf1ff254c4eb', 'iomem': 5, 'mac_addr': 'c201.07b1.0000', 'mmap': True, 'nvram': 256, 'platform': 'c3725', 'ram': 128, 'slot0': 'GT96100-FE', 'slot1': None, 'slot2': None, 'sparsemem': True, 'system_id': 'FTX0945W0MY', 'usage': '', 'wic0': None, 'wic1': None, 'wic2': None}\n",
      "3 symbol :/symbols/router.svg\n",
      "3 x -281\n",
      "3 y -119\n",
      "3 z 1\n",
      "{'adapter_number': 0, 'data_link_types': {'Ethernet': 'DLT_EN10MB'}, 'link_type': 'ethernet', 'name': 'Ethernet0', 'port_number': 0, 'short_name': 'e0'}\n",
      "3 name PC1\n",
      "3 node_type vpcs\n",
      "3 compute_id vm\n",
      "3 console_auto_start False\n",
      "3 console_type telnet\n",
      "3 custom_adapters []\n",
      "3 label {'rotation': 0, 'style': 'font-family: TypeWriter;font-size: 10.0;font-weight: bold;fill: #000000;fill-opacity: 1.0;', 'text': 'PC1', 'x': 18, 'y': -25}\n",
      "3 locked False\n",
      "3 port_name_format Ethernet{0}\n",
      "3 port_segment_size 0\n",
      "3 properties {}\n",
      "3 symbol :/symbols/vpcs_guest.svg\n",
      "3 x -397\n",
      "3 y -93\n",
      "3 z 1\n",
      "{'adapter_number': 0, 'data_link_types': {'Ethernet': 'DLT_EN10MB'}, 'link_type': 'ethernet', 'name': 'FastEthernet0/0', 'port_number': 0, 'short_name': 'f0/0'}\n",
      "{'adapter_number': 0, 'data_link_types': {'Ethernet': 'DLT_EN10MB'}, 'link_type': 'ethernet', 'name': 'FastEthernet0/1', 'port_number': 1, 'short_name': 'f0/1'}\n",
      "3 name R3\n",
      "3 node_type dynamips\n",
      "3 compute_id vm\n",
      "3 console_auto_start False\n",
      "3 console_type telnet\n",
      "3 custom_adapters []\n",
      "3 label {'rotation': 0, 'style': 'font-family: TypeWriter;font-size: 10.0;font-weight: bold;fill: #000000;fill-opacity: 1.0;', 'text': 'R3', 'x': 22, 'y': -25}\n",
      "3 locked False\n",
      "3 port_name_format Ethernet{0}\n",
      "3 port_segment_size 0\n",
      "3 properties {'auto_delete_disks': True, 'aux': None, 'clock_divisor': 8, 'disk0': 0, 'disk1': 0, 'dynamips_id': 3, 'exec_area': 64, 'idlemax': 500, 'idlepc': '0x60c086a8', 'idlesleep': 30, 'image': 'c3725-adventerprisek9-mz.124-15.T14.image', 'image_md5sum': '64f8c427ed48fd21bd02cf1ff254c4eb', 'iomem': 5, 'mac_addr': 'c203.08cf.0000', 'mmap': True, 'nvram': 256, 'platform': 'c3725', 'ram': 128, 'slot0': 'GT96100-FE', 'slot1': None, 'slot2': None, 'sparsemem': True, 'system_id': 'FTX0945W0MY', 'usage': '', 'wic0': None, 'wic1': None, 'wic2': None}\n",
      "3 symbol :/symbols/router.svg\n",
      "3 x -155\n",
      "3 y 10\n",
      "3 z 1\n",
      "{'adapter_number': 0, 'data_link_types': {'Ethernet': 'DLT_EN10MB'}, 'link_type': 'ethernet', 'name': 'Ethernet0', 'port_number': 0, 'short_name': 'e0'}\n",
      "{'adapter_number': 0, 'data_link_types': {'Ethernet': 'DLT_EN10MB'}, 'link_type': 'ethernet', 'name': 'Ethernet1', 'port_number': 1, 'short_name': 'e1'}\n",
      "{'adapter_number': 0, 'data_link_types': {'Ethernet': 'DLT_EN10MB'}, 'link_type': 'ethernet', 'name': 'Ethernet2', 'port_number': 2, 'short_name': 'e2'}\n",
      "{'adapter_number': 0, 'data_link_types': {'Ethernet': 'DLT_EN10MB'}, 'link_type': 'ethernet', 'name': 'Ethernet3', 'port_number': 3, 'short_name': 'e3'}\n",
      "{'adapter_number': 0, 'data_link_types': {'Ethernet': 'DLT_EN10MB'}, 'link_type': 'ethernet', 'name': 'Ethernet4', 'port_number': 4, 'short_name': 'e4'}\n",
      "{'adapter_number': 0, 'data_link_types': {'Ethernet': 'DLT_EN10MB'}, 'link_type': 'ethernet', 'name': 'Ethernet5', 'port_number': 5, 'short_name': 'e5'}\n",
      "{'adapter_number': 0, 'data_link_types': {'Ethernet': 'DLT_EN10MB'}, 'link_type': 'ethernet', 'name': 'Ethernet6', 'port_number': 6, 'short_name': 'e6'}\n",
      "{'adapter_number': 0, 'data_link_types': {'Ethernet': 'DLT_EN10MB'}, 'link_type': 'ethernet', 'name': 'Ethernet7', 'port_number': 7, 'short_name': 'e7'}\n",
      "3 name Hub1\n",
      "3 node_type ethernet_hub\n",
      "3 compute_id vm\n",
      "3 console_auto_start False\n",
      "3 custom_adapters []\n",
      "3 label {'rotation': 0, 'style': 'font-family: TypeWriter;font-size: 10.0;font-weight: bold;fill: #000000;fill-opacity: 1.0;', 'text': 'Hub1', 'x': 18, 'y': -25}\n",
      "3 locked False\n",
      "3 port_name_format Ethernet{0}\n",
      "3 port_segment_size 0\n",
      "3 properties {'ports_mapping': [{'name': 'Ethernet0', 'port_number': 0}, {'name': 'Ethernet1', 'port_number': 1}, {'name': 'Ethernet2', 'port_number': 2}, {'name': 'Ethernet3', 'port_number': 3}, {'name': 'Ethernet4', 'port_number': 4}, {'name': 'Ethernet5', 'port_number': 5}, {'name': 'Ethernet6', 'port_number': 6}, {'name': 'Ethernet7', 'port_number': 7}]}\n",
      "3 symbol :/symbols/hub.svg\n",
      "3 x -202\n",
      "3 y -152\n",
      "3 z 1\n",
      "1 Project(name='1', project_id='df5e8118-adb9-4a1d-aa6e-905ff636a60e', auto_close=True, auto_open=False, auto_start=False, drawing_grid_size=25, filename='1.gns3', grid_size=75, path='C:\\\\Users\\\\Junk\\\\GNS3\\\\projects\\\\1', scene_height=1000, scene_width=2000, show_grid=False, show_interface_labels=False, show_layers=False, snap_to_grid=False, status='closed', supplier=None, variables=None, zoom=100)\n",
      "1 name 1\n",
      "1 auto_close True\n",
      "1 auto_open False\n",
      "1 auto_start False\n",
      "1 drawing_grid_size 25\n",
      "1 grid_size 75\n",
      "1 path C:\\Users\\Junk\\GNS3\\projects\\1\n",
      "1 scene_height 1000\n",
      "1 scene_width 2000\n",
      "1 show_grid False\n",
      "1 show_interface_labels False\n",
      "1 show_layers False\n",
      "1 snap_to_grid False\n",
      "1 zoom 100\n"
     ]
    },
    {
     "name": "stderr",
     "output_type": "stream",
     "text": [
      "[I 230626 21:40:43 __init__:932] Pulling LinkList ...\n",
      "[D 230626 21:40:43 __init__:57] Request sent: GET http://localhost:3080/v2/projects/df5e8118-adb9-4a1d-aa6e-905ff636a60e/links\n",
      "[D 230626 21:40:43 __init__:59] Request status: 200 OK\n",
      "[I 230626 21:40:43 __init__:932] Pulling NodeList ...\n",
      "[D 230626 21:40:43 __init__:57] Request sent: GET http://localhost:3080/v2/projects/df5e8118-adb9-4a1d-aa6e-905ff636a60e/nodes\n",
      "[D 230626 21:40:43 __init__:59] Request status: 200 OK\n"
     ]
    }
   ],
   "source": [
    "from gns3_client import *\n",
    "import json\n",
    "\n",
    "# resp = r.get('http://localhost:3080/v2/version')\n",
    "# print(resp.cookies)\n",
    "server = Server('http://localhost:3080/v2')\n",
    "# project = Project(server, name='project1')\n",
    "# project.create()\n",
    "# print(server.projects)\n",
    "\n",
    "ps = server.projects\n",
    "ps.pull()\n",
    "for p in ps:\n",
    "    p : Project\n",
    "    print('1', p)\n",
    "    for k,v in p.metadata.dict().items():\n",
    "        print('1',k,v)\n",
    "    ls = p.links\n",
    "    ls.pull()\n",
    "    for l in ls:\n",
    "        l : Link\n",
    "        for n in l.metadata.dict()['nodes']:\n",
    "            for k,v in n.items():\n",
    "                if k == 'label':\n",
    "                    for k1, v1 in v.items():\n",
    "                        print('label',k1, v1)\n",
    "                else: print(k,v)\n",
    "            print()\n",
    "    ns = p.nodes\n",
    "    ns.pull()\n",
    "    for n in ns:\n",
    "        n : Node\n",
    "        # for k, v in n.__dict__.items():\n",
    "        #     print('2', k, v)\n",
    "        m : NodeMetadata = n.metadata\n",
    "        for p in m.ports:\n",
    "            print(p)\n",
    "        for k, v in n.metadata.dict().items():\n",
    "            print('3', k, v)"
   ]
  },
  {
   "cell_type": "code",
   "execution_count": 30,
   "metadata": {},
   "outputs": [
    {
     "name": "stderr",
     "output_type": "stream",
     "text": [
      "[I 230626 22:15:13 __init__:932] Pulling ProjectList ...\n",
      "[D 230626 22:15:13 __init__:57] Request sent: GET http://localhost:3080/v2/projects\n",
      "[D 230626 22:15:13 __init__:59] Request status: 200 OK\n"
     ]
    },
    {
     "name": "stdout",
     "output_type": "stream",
     "text": [
      "Project(name='project1', project_id='7ab112d2-6113-4887-a159-743ae4b07dc6', auto_close=True, auto_open=False, auto_start=False, drawing_grid_size=25, filename='project1.gns3', grid_size=75, path='C:\\\\Users\\\\Junk\\\\GNS3\\\\projects\\\\7ab112d2-6113-4887-a159-743ae4b07dc6', scene_height=1000, scene_width=2000, show_grid=False, show_interface_labels=True, show_layers=False, snap_to_grid=False, status='opened', supplier=None, variables=None, zoom=100)\n"
     ]
    },
    {
     "name": "stderr",
     "output_type": "stream",
     "text": [
      "[I 230626 22:15:13 __init__:932] Pulling NodeList ...\n",
      "[D 230626 22:15:13 __init__:57] Request sent: GET http://localhost:3080/v2/projects/7ab112d2-6113-4887-a159-743ae4b07dc6/nodes\n",
      "[D 230626 22:15:13 __init__:59] Request status: 200 OK\n",
      "[D 230626 22:15:13 __init__:57] Request sent: GET http://localhost:3080/v2/projects/7ab112d2-6113-4887-a159-743ae4b07dc6/nodes\n",
      "[D 230626 22:15:13 __init__:59] Request status: 200 OK\n",
      "[D 230626 22:15:13 __init__:57] Request sent: GET http://localhost:3080/v2/projects/7ab112d2-6113-4887-a159-743ae4b07dc6/nodes\n",
      "[D 230626 22:15:13 __init__:59] Request status: 200 OK\n",
      "[I 230626 22:15:13 __init__:645] Creating Link None ...\n",
      "[D 230626 22:15:13 __init__:57] Request sent: POST http://localhost:3080/v2/projects/7ab112d2-6113-4887-a159-743ae4b07dc6/links\n",
      "[D 230626 22:15:13 __init__:59] Request status: 201 Created\n",
      "[D 230626 22:15:13 __init__:57] Request sent: GET http://localhost:3080/v2/projects/7ab112d2-6113-4887-a159-743ae4b07dc6/nodes\n",
      "[D 230626 22:15:13 __init__:59] Request status: 200 OK\n",
      "[D 230626 22:15:13 __init__:57] Request sent: GET http://localhost:3080/v2/projects/7ab112d2-6113-4887-a159-743ae4b07dc6/nodes\n",
      "[D 230626 22:15:13 __init__:59] Request status: 200 OK\n"
     ]
    },
    {
     "name": "stdout",
     "output_type": "stream",
     "text": [
      "Project(name='1', project_id='df5e8118-adb9-4a1d-aa6e-905ff636a60e', auto_close=True, auto_open=False, auto_start=False, drawing_grid_size=25, filename='1.gns3', grid_size=75, path='C:\\\\Users\\\\Junk\\\\GNS3\\\\projects\\\\1', scene_height=1000, scene_width=2000, show_grid=False, show_interface_labels=False, show_layers=False, snap_to_grid=False, status='closed', supplier=None, variables=None, zoom=100)\n"
     ]
    }
   ],
   "source": [
    "from gns3_client import *\n",
    "# server = Server('http://localhost:3080/v2')\n",
    "# print(server.projects)\n",
    "server.projects.pull()\n",
    "for p in server.projects:\n",
    "    p : Project\n",
    "    print(p)\n",
    "    pm : ProjectMetadata = p.metadata\n",
    "    if pm.name == 'project1':\n",
    "        p.nodes.pull()\n",
    "        n1 = p.nodes[0]\n",
    "        n2 = p.nodes[1]\n",
    "        d1 = {'adapter_number': 0, 'port_number': 0, 'label': {'text': 'f0/0'}}\n",
    "        d2 = {'adapter_number': 0, 'port_number': 1, 'label': {'text': 'f0/1'}}\n",
    "        d1['node_id'] = n1.id\n",
    "        d2['node_id'] = n2.id\n",
    "        l = Link(project=p, nodes=[d1, d2])\n",
    "        l.create()"
   ]
  },
  {
   "cell_type": "code",
   "execution_count": 31,
   "metadata": {},
   "outputs": [
    {
     "name": "stderr",
     "output_type": "stream",
     "text": [
      "[I 230626 22:15:15 __init__:932] Pulling ProjectList ...\n",
      "[D 230626 22:15:15 __init__:57] Request sent: GET http://localhost:3080/v2/projects\n",
      "[D 230626 22:15:15 __init__:59] Request status: 200 OK\n"
     ]
    },
    {
     "name": "stdout",
     "output_type": "stream",
     "text": [
      "7ab112d2-6113-4887-a159-743ae4b07dc6\n"
     ]
    },
    {
     "name": "stderr",
     "output_type": "stream",
     "text": [
      "[I 230626 22:15:15 __init__:932] Pulling LinkList ...\n",
      "[D 230626 22:15:15 __init__:57] Request sent: GET http://localhost:3080/v2/projects/7ab112d2-6113-4887-a159-743ae4b07dc6/links\n",
      "[D 230626 22:15:15 __init__:59] Request status: 200 OK\n",
      "[D 230626 22:15:15 __init__:57] Request sent: GET http://localhost:3080/v2/projects/7ab112d2-6113-4887-a159-743ae4b07dc6/nodes\n",
      "[D 230626 22:15:15 __init__:59] Request status: 200 OK\n",
      "[D 230626 22:15:15 __init__:57] Request sent: GET http://localhost:3080/v2/projects/7ab112d2-6113-4887-a159-743ae4b07dc6/nodes\n",
      "[D 230626 22:15:15 __init__:59] Request status: 200 OK\n"
     ]
    },
    {
     "name": "stdout",
     "output_type": "stream",
     "text": [
      "ef3c0b0f-9188-4dfa-8c91-5b3cd00c9458\n",
      "ef3c0b0f-9188-4dfa-8c91-5b3cd00c9458\n"
     ]
    }
   ],
   "source": [
    "from gns3_client import *\n",
    "# server = Server('http://localhost:3080/v2')\n",
    "# print(server.projects)\n",
    "server.projects.pull()\n",
    "for p in server.projects:\n",
    "    p : Project\n",
    "    pm : ProjectMetadata = p.metadata\n",
    "    if pm.name == 'project1':\n",
    "        print(pm.project_id)\n",
    "        p.links.pull()\n",
    "        for l in p.links:\n",
    "            l : Link\n",
    "            print(l.id)\n",
    "            print(l.metadata.link_id)"
   ]
  },
  {
   "cell_type": "code",
   "execution_count": 8,
   "metadata": {},
   "outputs": [
    {
     "name": "stderr",
     "output_type": "stream",
     "text": [
      "[I 230627 15:34:18 __init__:932] Pulling ProjectList ...\n",
      "[D 230627 15:34:18 __init__:57] Request sent: GET http://localhost:3080/v2/projects\n"
     ]
    },
    {
     "name": "stderr",
     "output_type": "stream",
     "text": [
      "[D 230627 15:34:18 __init__:59] Request status: 200 OK\n",
      "[I 230627 15:34:18 __init__:932] Pulling NodeList ...\n",
      "[D 230627 15:34:18 __init__:57] Request sent: GET http://localhost:3080/v2/projects/7ab112d2-6113-4887-a159-743ae4b07dc6/nodes\n",
      "[D 230627 15:34:18 __init__:59] Request status: 200 OK\n"
     ]
    },
    {
     "name": "stdout",
     "output_type": "stream",
     "text": [
      "[{'adapter_number': 0, 'data_link_types': {'Ethernet': 'DLT_EN10MB'}, 'link_type': 'ethernet', 'name': 'FastEthernet0/0', 'port_number': 0, 'short_name': 'f0/0'}, {'adapter_number': 0, 'data_link_types': {'Ethernet': 'DLT_EN10MB'}, 'link_type': 'ethernet', 'name': 'FastEthernet0/1', 'port_number': 1, 'short_name': 'f0/1'}]\n",
      "[{'adapter_number': 0, 'data_link_types': {'Ethernet': 'DLT_EN10MB'}, 'link_type': 'ethernet', 'name': 'FastEthernet0/0', 'port_number': 0, 'short_name': 'f0/0'}, {'adapter_number': 0, 'data_link_types': {'Ethernet': 'DLT_EN10MB'}, 'link_type': 'ethernet', 'name': 'FastEthernet0/1', 'port_number': 1, 'short_name': 'f0/1'}]\n",
      "[{'adapter_number': 0, 'data_link_types': {'Ethernet': 'DLT_EN10MB'}, 'link_type': 'ethernet', 'name': 'Ethernet0', 'port_number': 0, 'short_name': 'e0'}]\n",
      "[{'adapter_number': 0, 'data_link_types': {'Ethernet': 'DLT_EN10MB'}, 'link_type': 'ethernet', 'name': 'FastEthernet0/0', 'port_number': 0, 'short_name': 'f0/0'}, {'adapter_number': 0, 'data_link_types': {'Ethernet': 'DLT_EN10MB'}, 'link_type': 'ethernet', 'name': 'FastEthernet0/1', 'port_number': 1, 'short_name': 'f0/1'}]\n",
      "[{'adapter_number': 0, 'data_link_types': {'Ethernet': 'DLT_EN10MB'}, 'link_type': 'ethernet', 'name': 'Ethernet0', 'port_number': 0, 'short_name': 'e0'}, {'adapter_number': 0, 'data_link_types': {'Ethernet': 'DLT_EN10MB'}, 'link_type': 'ethernet', 'name': 'Ethernet1', 'port_number': 1, 'short_name': 'e1'}, {'adapter_number': 0, 'data_link_types': {'Ethernet': 'DLT_EN10MB'}, 'link_type': 'ethernet', 'name': 'Ethernet2', 'port_number': 2, 'short_name': 'e2'}, {'adapter_number': 0, 'data_link_types': {'Ethernet': 'DLT_EN10MB'}, 'link_type': 'ethernet', 'name': 'Ethernet3', 'port_number': 3, 'short_name': 'e3'}, {'adapter_number': 0, 'data_link_types': {'Ethernet': 'DLT_EN10MB'}, 'link_type': 'ethernet', 'name': 'Ethernet4', 'port_number': 4, 'short_name': 'e4'}, {'adapter_number': 0, 'data_link_types': {'Ethernet': 'DLT_EN10MB'}, 'link_type': 'ethernet', 'name': 'Ethernet5', 'port_number': 5, 'short_name': 'e5'}, {'adapter_number': 0, 'data_link_types': {'Ethernet': 'DLT_EN10MB'}, 'link_type': 'ethernet', 'name': 'Ethernet6', 'port_number': 6, 'short_name': 'e6'}, {'adapter_number': 0, 'data_link_types': {'Ethernet': 'DLT_EN10MB'}, 'link_type': 'ethernet', 'name': 'Ethernet7', 'port_number': 7, 'short_name': 'e7'}]\n"
     ]
    }
   ],
   "source": [
    "from gns3_client import *\n",
    "server = Server('http://localhost:3080/v2')\n",
    "# print(server.projects)\n",
    "server.projects.pull()\n",
    "for p in server.projects:\n",
    "    p : Project\n",
    "    pm : ProjectMetadata = p.metadata\n",
    "    if pm.name == 'project1':\n",
    "        p.nodes.pull()\n",
    "        for n in p.nodes:\n",
    "            print(n.metadata.ports)"
   ]
  },
  {
   "cell_type": "code",
   "execution_count": 1,
   "metadata": {},
   "outputs": [
    {
     "name": "stderr",
     "output_type": "stream",
     "text": [
      "[I 230627 16:41:13 __init__:932] Pulling ProjectList ...\n",
      "[D 230627 16:41:13 __init__:57] Request sent: GET http://localhost:3080/v2/projects\n",
      "[D 230627 16:41:13 __init__:59] Request status: 200 OK\n"
     ]
    },
    {
     "name": "stdout",
     "output_type": "stream",
     "text": [
      "7ab112d2-6113-4887-a159-743ae4b07dc6\n"
     ]
    },
    {
     "name": "stderr",
     "output_type": "stream",
     "text": [
      "[I 230627 16:41:13 __init__:932] Pulling NodeList ...\n",
      "[D 230627 16:41:13 __init__:57] Request sent: GET http://localhost:3080/v2/projects/7ab112d2-6113-4887-a159-743ae4b07dc6/nodes\n",
      "[D 230627 16:41:13 __init__:59] Request status: 200 OK\n"
     ]
    },
    {
     "name": "stdout",
     "output_type": "stream",
     "text": [
      "NodeMetadata(name='R1', node_id='34a0e030-110f-4345-a119-1bee78c52b3d', node_type='dynamips', command_line=None, compute_id='vm', console=5000, console_auto_start=False, console_host='192.168.56.107', console_type='telnet', custom_adapters=[], first_port_name=None, height=45, label={'rotation': 0, 'style': 'font-family: TypeWriter;font-size: 10.0;font-weight: bold;fill: #000000;fill-opacity: 1.0;', 'text': 'R1', 'x': 22, 'y': -25}, locked=False, node_directory='/opt/gns3/projects/7ab112d2-6113-4887-a159-743ae4b07dc6/project-files/dynamips/34a0e030-110f-4345-a119-1bee78c52b3d', port_name_format='Ethernet{0}', port_segment_size=0, ports=[{'adapter_number': 0, 'data_link_types': {'Ethernet': 'DLT_EN10MB'}, 'link_type': 'ethernet', 'name': 'FastEthernet0/0', 'port_number': 0, 'short_name': 'f0/0'}, {'adapter_number': 0, 'data_link_types': {'Ethernet': 'DLT_EN10MB'}, 'link_type': 'ethernet', 'name': 'FastEthernet0/1', 'port_number': 1, 'short_name': 'f0/1'}], project_id='7ab112d2-6113-4887-a159-743ae4b07dc6', properties={'auto_delete_disks': True, 'aux': None, 'clock_divisor': 8, 'disk0': 0, 'disk1': 0, 'dynamips_id': 1, 'exec_area': 64, 'idlemax': 500, 'idlepc': '0x60c086a8', 'idlesleep': 30, 'image': 'c3725-adventerprisek9-mz.124-15.T14.image', 'image_md5sum': '64f8c427ed48fd21bd02cf1ff254c4eb', 'iomem': 5, 'mac_addr': 'c201.06ac.0000', 'mmap': True, 'nvram': 256, 'platform': 'c3725', 'ram': 128, 'slot0': 'GT96100-FE', 'slot1': None, 'slot2': None, 'sparsemem': True, 'system_id': 'FTX0945W0MY', 'usage': '', 'wic0': None, 'wic1': None, 'wic2': None}, status='started', symbol=':/symbols/router.svg', template_id='10403eaf-5d08-46e5-9dbf-b50e696daa70', width=66, x=-725, y=-340, z=1)\n",
      "NodeMetadata(name='V0', node_id='16cfd9f2-db33-471a-933d-27e76bbb4797', node_type='vpcs', command_line='/usr/bin/vpcs -p 5002 -m 0 -i 1 -F -R -s 20000 -c 20001 -t 127.0.0.1', compute_id='vm', console=5001, console_auto_start=False, console_host='192.168.56.107', console_type='telnet', custom_adapters=[], first_port_name=None, height=59, label={'rotation': 0, 'style': 'font-family: TypeWriter;font-size: 10.0;font-weight: bold;fill: #000000;fill-opacity: 1.0;', 'text': 'V0', 'x': 21, 'y': -25}, locked=False, node_directory='/opt/gns3/projects/7ab112d2-6113-4887-a159-743ae4b07dc6/project-files/vpcs/16cfd9f2-db33-471a-933d-27e76bbb4797', port_name_format='Ethernet{0}', port_segment_size=0, ports=[{'adapter_number': 0, 'data_link_types': {'Ethernet': 'DLT_EN10MB'}, 'link_type': 'ethernet', 'name': 'Ethernet0', 'port_number': 0, 'short_name': 'e0'}], project_id='7ab112d2-6113-4887-a159-743ae4b07dc6', properties={}, status='started', symbol=':/symbols/computer.svg', template_id=None, width=65, x=-547, y=-294, z=1)\n",
      "NodeMetadata(name='V4', node_id=None, node_type='vpcs', command_line=None, compute_id='vm', console=None, console_auto_start=None, console_host=None, console_type=None, custom_adapters=None, first_port_name=None, height=None, label=None, locked=None, node_directory=None, port_name_format=None, port_segment_size=None, ports=None, project_id=None, properties=None, status=None, symbol=None, template_id=None, width=None, x=0, y=0, z=None)\n"
     ]
    },
    {
     "name": "stderr",
     "output_type": "stream",
     "text": [
      "[I 230627 16:41:13 __init__:766] Creating Node V4 ...\n",
      "[D 230627 16:41:13 __init__:57] Request sent: POST http://localhost:3080/v2/projects/7ab112d2-6113-4887-a159-743ae4b07dc6/nodes\n",
      "[D 230627 16:41:13 __init__:59] Request status: 201 Created\n",
      "[I 230627 16:41:13 __init__:654] Updating Node V4 ...\n",
      "[D 230627 16:41:13 __init__:57] Request sent: PUT http://localhost:3080/v2/projects/7ab112d2-6113-4887-a159-743ae4b07dc6/nodes/b1b7a8ad-04c0-4dfe-87e0-7c9226ef8df7\n",
      "[D 230627 16:41:13 __init__:59] Request status: 200 OK\n"
     ]
    },
    {
     "name": "stdout",
     "output_type": "stream",
     "text": [
      "01b500cf-ea43-4635-a7b0-44bcd5709090\n"
     ]
    }
   ],
   "source": [
    "from gns3_client import *\n",
    "server = Server('http://localhost:3080/v2')\n",
    "# print(server.projects)\n",
    "server.projects.pull()\n",
    "for p in server.projects:\n",
    "    p : Project\n",
    "    pm : ProjectMetadata = p.metadata\n",
    "    print(pm.project_id)\n",
    "    if pm.name == 'project1':\n",
    "        p.nodes.pull()\n",
    "        for n in p.nodes:\n",
    "            print(n.metadata)\n",
    "        n = Node(project=p, compute_id='vm', name='V4', node_type='vpcs')\n",
    "        print(n.metadata)\n",
    "        n.create()"
   ]
  },
  {
   "cell_type": "code",
   "execution_count": 4,
   "metadata": {},
   "outputs": [
    {
     "name": "stderr",
     "output_type": "stream",
     "text": [
      "[I 230627 16:48:08 __init__:932] Pulling ProjectList ...\n",
      "[D 230627 16:48:08 __init__:57] Request sent: GET http://localhost:3080/v2/projects\n",
      "[D 230627 16:48:08 __init__:59] Request status: 200 OK\n",
      "[I 230627 16:48:08 __init__:932] Pulling TemplateList ...\n",
      "[D 230627 16:48:08 __init__:57] Request sent: GET http://localhost:3080/v2/templates\n",
      "[D 230627 16:48:08 __init__:59] Request status: 200 OK\n"
     ]
    },
    {
     "ename": "TypeError",
     "evalue": "__init__() got an unexpected keyword argument 'auto_delete_disks'",
     "output_type": "error",
     "traceback": [
      "\u001b[1;31m---------------------------------------------------------------------------\u001b[0m",
      "\u001b[1;31mTypeError\u001b[0m                                 Traceback (most recent call last)",
      "Cell \u001b[1;32mIn[4], line 5\u001b[0m\n\u001b[0;32m      3\u001b[0m \u001b[39m# print(server.projects)\u001b[39;00m\n\u001b[0;32m      4\u001b[0m server\u001b[39m.\u001b[39mprojects\u001b[39m.\u001b[39mpull()\n\u001b[1;32m----> 5\u001b[0m server\u001b[39m.\u001b[39;49mtemplates\u001b[39m.\u001b[39;49mpull()\n\u001b[0;32m      6\u001b[0m \u001b[39mfor\u001b[39;00m t \u001b[39min\u001b[39;00m server\u001b[39m.\u001b[39mtemplates:\n\u001b[0;32m      7\u001b[0m     \u001b[39mprint\u001b[39m(t\u001b[39m.\u001b[39mmetadata)\n",
      "File \u001b[1;32md:\\Junk\\Documents\\jiwang\\gns3\\lib\\site-packages\\gns3_client\\__init__.py:933\u001b[0m, in \u001b[0;36mBaseObjectList.pull\u001b[1;34m(self)\u001b[0m\n\u001b[0;32m    931\u001b[0m \u001b[39m\u001b[39m\u001b[39m\"\"\"Pull objects from server and update local instances, e.g. sync from GNS3 server\"\"\"\u001b[39;00m\n\u001b[0;32m    932\u001b[0m logger\u001b[39m.\u001b[39minfo(\u001b[39mf\u001b[39m\u001b[39m'\u001b[39m\u001b[39mPulling \u001b[39m\u001b[39m{\u001b[39;00m\u001b[39mself\u001b[39m\u001b[39m.\u001b[39m\u001b[39m__class__\u001b[39m\u001b[39m.\u001b[39m\u001b[39m__name__\u001b[39m\u001b[39m}\u001b[39;00m\u001b[39m ...\u001b[39m\u001b[39m'\u001b[39m)\n\u001b[1;32m--> 933\u001b[0m \u001b[39mself\u001b[39m\u001b[39m.\u001b[39mdata \u001b[39m=\u001b[39m \u001b[39mself\u001b[39;49m\u001b[39m.\u001b[39;49m_get_remote_objects()\n",
      "File \u001b[1;32md:\\Junk\\Documents\\jiwang\\gns3\\lib\\site-packages\\gns3_client\\__init__.py:1014\u001b[0m, in \u001b[0;36mTemplateList._get_remote_objects\u001b[1;34m(self)\u001b[0m\n\u001b[0;32m   1012\u001b[0m \u001b[39mdef\u001b[39;00m \u001b[39m_get_remote_objects\u001b[39m(\u001b[39mself\u001b[39m) \u001b[39m-\u001b[39m\u001b[39m>\u001b[39m \u001b[39mlist\u001b[39m[Template]:\n\u001b[0;32m   1013\u001b[0m \u001b[39m    \u001b[39m\u001b[39m\"\"\"Pull objects from GNS3 server and return them as objects\"\"\"\u001b[39;00m\n\u001b[1;32m-> 1014\u001b[0m     \u001b[39mreturn\u001b[39;00m [\u001b[39mself\u001b[39m\u001b[39m.\u001b[39m_ObjectClass(server\u001b[39m=\u001b[39m\u001b[39mself\u001b[39m\u001b[39m.\u001b[39m_server, \u001b[39m*\u001b[39m\u001b[39m*\u001b[39mt) \u001b[39mfor\u001b[39;00m t \u001b[39min\u001b[39;00m \u001b[39mself\u001b[39m\u001b[39m.\u001b[39m_get()]\n",
      "File \u001b[1;32md:\\Junk\\Documents\\jiwang\\gns3\\lib\\site-packages\\gns3_client\\__init__.py:1014\u001b[0m, in \u001b[0;36m<listcomp>\u001b[1;34m(.0)\u001b[0m\n\u001b[0;32m   1012\u001b[0m \u001b[39mdef\u001b[39;00m \u001b[39m_get_remote_objects\u001b[39m(\u001b[39mself\u001b[39m) \u001b[39m-\u001b[39m\u001b[39m>\u001b[39m \u001b[39mlist\u001b[39m[Template]:\n\u001b[0;32m   1013\u001b[0m \u001b[39m    \u001b[39m\u001b[39m\"\"\"Pull objects from GNS3 server and return them as objects\"\"\"\u001b[39;00m\n\u001b[1;32m-> 1014\u001b[0m     \u001b[39mreturn\u001b[39;00m [\u001b[39mself\u001b[39m\u001b[39m.\u001b[39m_ObjectClass(server\u001b[39m=\u001b[39m\u001b[39mself\u001b[39m\u001b[39m.\u001b[39m_server, \u001b[39m*\u001b[39m\u001b[39m*\u001b[39mt) \u001b[39mfor\u001b[39;00m t \u001b[39min\u001b[39;00m \u001b[39mself\u001b[39m\u001b[39m.\u001b[39m_get()]\n",
      "File \u001b[1;32md:\\Junk\\Documents\\jiwang\\gns3\\lib\\site-packages\\gns3_client\\__init__.py:691\u001b[0m, in \u001b[0;36mTemplate.__init__\u001b[1;34m(self, server, **kwargs)\u001b[0m\n\u001b[0;32m    690\u001b[0m \u001b[39mdef\u001b[39;00m \u001b[39m__init__\u001b[39m(\u001b[39mself\u001b[39m, server: Server \u001b[39m=\u001b[39m \u001b[39mNone\u001b[39;00m, \u001b[39m*\u001b[39m\u001b[39m*\u001b[39mkwargs) \u001b[39m-\u001b[39m\u001b[39m>\u001b[39m \u001b[39mNone\u001b[39;00m:\n\u001b[1;32m--> 691\u001b[0m     \u001b[39msuper\u001b[39m(Template, \u001b[39mself\u001b[39m)\u001b[39m.\u001b[39m\u001b[39m__init__\u001b[39m(\u001b[39m*\u001b[39m\u001b[39m*\u001b[39mkwargs)\n\u001b[0;32m    692\u001b[0m     \u001b[39mself\u001b[39m\u001b[39m.\u001b[39m_server \u001b[39m=\u001b[39m server\n\u001b[0;32m    693\u001b[0m     \u001b[39mself\u001b[39m\u001b[39m.\u001b[39mmetadata \u001b[39m=\u001b[39m \u001b[39mself\u001b[39m\u001b[39m.\u001b[39m_MetadataClass(\u001b[39m*\u001b[39m\u001b[39m*\u001b[39mkwargs)\n",
      "File \u001b[1;32md:\\Junk\\Documents\\jiwang\\gns3\\lib\\site-packages\\gns3_client\\__init__.py:569\u001b[0m, in \u001b[0;36mBaseObject.__init__\u001b[1;34m(self, **kwargs)\u001b[0m\n\u001b[0;32m    568\u001b[0m \u001b[39mdef\u001b[39;00m \u001b[39m__init__\u001b[39m(\u001b[39mself\u001b[39m, \u001b[39m*\u001b[39m\u001b[39m*\u001b[39mkwargs) \u001b[39m-\u001b[39m\u001b[39m>\u001b[39m \u001b[39mNone\u001b[39;00m:\n\u001b[1;32m--> 569\u001b[0m     \u001b[39mself\u001b[39m\u001b[39m.\u001b[39mmetadata \u001b[39m=\u001b[39m \u001b[39mself\u001b[39m\u001b[39m.\u001b[39m_MetadataClass(\u001b[39m*\u001b[39m\u001b[39m*\u001b[39mkwargs)\n",
      "\u001b[1;31mTypeError\u001b[0m: __init__() got an unexpected keyword argument 'auto_delete_disks'"
     ]
    }
   ],
   "source": [
    "from gns3_client import *\n",
    "server = Server('http://localhost:3080/v2')\n",
    "# print(server.projects)\n",
    "server.projects.pull()\n",
    "server.templates.pull()\n",
    "for t in server.templates:\n",
    "    print(t.metadata)\n",
    "for p in server.projects:\n",
    "    p : Project\n",
    "    pm : ProjectMetadata = p.metadata\n",
    "    print(pm.project_id)\n",
    "    if pm.name == 'project1':\n",
    "        p.nodes.pull()\n",
    "        for n in p.nodes:\n",
    "            print(n.metadata)\n",
    "        n = Node(project=p, compute_id='vm', name='R0', node_type='dynamips', platform='c3725')\n",
    "        # t = Template(server=server)\n",
    "        # n = Node(project=p, template=)\n",
    "        print(n.metadata)\n",
    "        n.create()"
   ]
  },
  {
   "cell_type": "code",
   "execution_count": 25,
   "metadata": {},
   "outputs": [
    {
     "name": "stdout",
     "output_type": "stream",
     "text": [
      "{\"compute_id\": \"vm\", \"node_type\": \"vpcs\", \"name\": \"V0\"}\n",
      "{\n",
      "    \"command_line\": \"\",\n",
      "    \"compute_id\": \"vm\",\n",
      "    \"console\": 5012,\n",
      "    \"console_auto_start\": false,\n",
      "    \"console_host\": \"192.168.56.107\",\n",
      "    \"console_type\": \"telnet\",\n",
      "    \"custom_adapters\": [],\n",
      "    \"first_port_name\": null,\n",
      "    \"height\": 59,\n",
      "    \"label\": {\n",
      "        \"rotation\": 0,\n",
      "        \"style\": null,\n",
      "        \"text\": \"V6\",\n",
      "        \"x\": null,\n",
      "        \"y\": -40\n",
      "    },\n",
      "    \"locked\": false,\n",
      "    \"name\": \"V6\",\n",
      "    \"node_directory\": \"/opt/gns3/projects/7ab112d2-6113-4887-a159-743ae4b07dc6/project-files/vpcs/5a187e58-5fd5-4166-9400-4fef34956b7c\",\n",
      "    \"node_id\": \"5a187e58-5fd5-4166-9400-4fef34956b7c\",\n",
      "    \"node_type\": \"vpcs\",\n",
      "    \"port_name_format\": \"Ethernet{0}\",\n",
      "    \"port_segment_size\": 0,\n",
      "    \"ports\": [\n",
      "        {\n",
      "            \"adapter_number\": 0,\n",
      "            \"data_link_types\": {\n",
      "                \"Ethernet\": \"DLT_EN10MB\"\n",
      "            },\n",
      "            \"link_type\": \"ethernet\",\n",
      "            \"name\": \"Ethernet0\",\n",
      "            \"port_number\": 0,\n",
      "            \"short_name\": \"e0\"\n",
      "        }\n",
      "    ],\n",
      "    \"project_id\": \"7ab112d2-6113-4887-a159-743ae4b07dc6\",\n",
      "    \"properties\": {},\n",
      "    \"status\": \"stopped\",\n",
      "    \"symbol\": \":/symbols/computer.svg\",\n",
      "    \"template_id\": null,\n",
      "    \"width\": 65,\n",
      "    \"x\": 0,\n",
      "    \"y\": 0,\n",
      "    \"z\": 1\n",
      "}\n"
     ]
    }
   ],
   "source": [
    "import requests as r\n",
    "import json\n",
    "server = 'http://localhost:80/v2'\n",
    "# print(r.get(url=server+'/templates').content.decode())\n",
    "d = {}\n",
    "d['compute_id'] = 'vm'\n",
    "d['node_type'] = 'vpcs'\n",
    "d['name'] = 'V0'\n",
    "j = json.dumps(d)\n",
    "print(j)\n",
    "resp = r.post(url=server+'/projects/7ab112d2-6113-4887-a159-743ae4b07dc6/nodes', json=d).text\n",
    "print(resp)\n",
    "# for k,v in resp.items():\n",
    "    # print(k,v)"
   ]
  },
  {
   "cell_type": "code",
   "execution_count": 69,
   "metadata": {},
   "outputs": [
    {
     "name": "stdout",
     "output_type": "stream",
     "text": [
      "{\n",
      "    \"message\": \"Project ID a9a38b24-6d7c-4f44-a8af-f00b0ec21bcb doesn't exist\",\n",
      "    \"status\": 404\n",
      "}\n"
     ]
    }
   ],
   "source": [
    "body = {\n",
    "    'name' : 'R1',\n",
    "    'image' : 'D:/Junk/Downloads/Cisco 3725/c3725-adventerprisek9-mz.124-15.T14.image',\n",
    "    'platform' : 'c3725',\n",
    "    'ram' : 64\n",
    "}\n",
    "print(r.post(url=server+'/compute/projects/a9a38b24-6d7c-4f44-a8af-f00b0ec21bcb/dynamips/nodes', json=body).text)"
   ]
  },
  {
   "cell_type": "code",
   "execution_count": 97,
   "metadata": {},
   "outputs": [
    {
     "name": "stdout",
     "output_type": "stream",
     "text": [
      "{\n",
      "    \"command_line\": null,\n",
      "    \"compute_id\": \"vm\",\n",
      "    \"console\": 5006,\n",
      "    \"console_auto_start\": false,\n",
      "    \"console_host\": \"192.168.56.107\",\n",
      "    \"console_type\": \"telnet\",\n",
      "    \"custom_adapters\": [],\n",
      "    \"first_port_name\": null,\n",
      "    \"height\": 45,\n",
      "    \"label\": {\n",
      "        \"rotation\": 0,\n",
      "        \"style\": null,\n",
      "        \"text\": \"R0\",\n",
      "        \"x\": null,\n",
      "        \"y\": -32\n",
      "    },\n",
      "    \"locked\": false,\n",
      "    \"name\": \"R0\",\n",
      "    \"node_directory\": \"/opt/gns3/projects/8ee085ac-1575-47ba-a160-29195c589742/project-files/dynamips/311a4735-a344-42ad-a088-c99c54cb6075\",\n",
      "    \"node_id\": \"311a4735-a344-42ad-a088-c99c54cb6075\",\n",
      "    \"node_type\": \"dynamips\",\n",
      "    \"port_name_format\": \"Ethernet{0}\",\n",
      "    \"port_segment_size\": 0,\n",
      "    \"ports\": [\n",
      "        {\n",
      "            \"adapter_number\": 0,\n",
      "            \"data_link_types\": {\n",
      "                \"Ethernet\": \"DLT_EN10MB\"\n",
      "            },\n",
      "            \"link_type\": \"ethernet\",\n",
      "            \"name\": \"FastEthernet0/0\",\n",
      "            \"port_number\": 0,\n",
      "            \"short_name\": \"f0/0\"\n",
      "        },\n",
      "        {\n",
      "            \"adapter_number\": 0,\n",
      "            \"data_link_types\": {\n",
      "                \"Ethernet\": \"DLT_EN10MB\"\n",
      "            },\n",
      "            \"link_type\": \"ethernet\",\n",
      "            \"name\": \"FastEthernet0/1\",\n",
      "            \"port_number\": 1,\n",
      "            \"short_name\": \"f0/1\"\n",
      "        }\n",
      "    ],\n",
      "    \"project_id\": \"8ee085ac-1575-47ba-a160-29195c589742\",\n",
      "    \"properties\": {\n",
      "        \"auto_delete_disks\": false,\n",
      "        \"aux\": null,\n",
      "        \"clock_divisor\": 8,\n",
      "        \"disk0\": 16,\n",
      "        \"disk1\": 0,\n",
      "        \"dynamips_id\": 2,\n",
      "        \"exec_area\": 64,\n",
      "        \"idlemax\": 500,\n",
      "        \"idlepc\": \"\",\n",
      "        \"idlesleep\": 30,\n",
      "        \"image\": \"c3725-adventerprisek9-mz.124-15.T14.image\",\n",
      "        \"image_md5sum\": \"64f8c427ed48fd21bd02cf1ff254c4eb\",\n",
      "        \"iomem\": 5,\n",
      "        \"mac_addr\": \"c202.06b4.0000\",\n",
      "        \"mmap\": true,\n",
      "        \"nvram\": 112,\n",
      "        \"platform\": \"c3725\",\n",
      "        \"ram\": 128,\n",
      "        \"slot0\": \"GT96100-FE\",\n",
      "        \"slot1\": null,\n",
      "        \"slot2\": null,\n",
      "        \"sparsemem\": true,\n",
      "        \"system_id\": \"FTX0945W0MY\",\n",
      "        \"usage\": \"\",\n",
      "        \"wic0\": null,\n",
      "        \"wic1\": null,\n",
      "        \"wic2\": null\n",
      "    },\n",
      "    \"status\": \"stopped\",\n",
      "    \"symbol\": \":/symbols/router.svg\",\n",
      "    \"template_id\": null,\n",
      "    \"width\": 66,\n",
      "    \"x\": 0,\n",
      "    \"y\": 0,\n",
      "    \"z\": 1\n",
      "}\n"
     ]
    }
   ],
   "source": [
    "body = {\n",
    "        'name': 'R0',\n",
    "        'node_type': 'dynamips',\n",
    "        'compute_id': 'vm',\n",
    "        'symbol': ':/symbols/router.svg',\n",
    "        'properties' : {\n",
    "                'image':'c3725-adventerprisek9-mz.124-15.T14.image',\n",
    "                'platform':'c3725',\n",
    "                'ram':128\n",
    "        }\n",
    "}\n",
    "server = 'http://localhost:3080/v2'\n",
    "print(r.post(url=server+'/projects/8ee085ac-1575-47ba-a160-29195c589742/nodes', json=body).text)"
   ]
  },
  {
   "cell_type": "code",
   "execution_count": 102,
   "metadata": {},
   "outputs": [
    {
     "name": "stdout",
     "output_type": "stream",
     "text": [
      "command_line None\n",
      "compute_id vm\n",
      "console 5000\n",
      "console_auto_start False\n",
      "console_host 192.168.56.107\n",
      "console_type telnet\n",
      "custom_adapters []\n",
      "first_port_name "
     ]
    },
    {
     "name": "stdout",
     "output_type": "stream",
     "text": [
      "None\n",
      "height 45\n",
      "label {'rotation': 0, 'style': 'font-family: TypeWriter;font-size: 10.0;font-weight: bold;fill: #000000;fill-opacity: 1.0;', 'text': 'R1', 'x': 22, 'y': -25}\n",
      "locked False\n",
      "name R1\n",
      "node_directory /opt/gns3/projects/8ee085ac-1575-47ba-a160-29195c589742/project-files/dynamips/3189b826-5ecb-4c61-8161-e622179c6f75\n",
      "node_id 3189b826-5ecb-4c61-8161-e622179c6f75\n",
      "node_type dynamips\n",
      "port_name_format Ethernet{0}\n",
      "port_segment_size 0\n",
      "ports [{'adapter_number': 0, 'data_link_types': {'Ethernet': 'DLT_EN10MB'}, 'link_type': 'ethernet', 'name': 'FastEthernet0/0', 'port_number': 0, 'short_name': 'f0/0'}, {'adapter_number': 0, 'data_link_types': {'Ethernet': 'DLT_EN10MB'}, 'link_type': 'ethernet', 'name': 'FastEthernet0/1', 'port_number': 1, 'short_name': 'f0/1'}]\n",
      "project_id 8ee085ac-1575-47ba-a160-29195c589742\n",
      "properties {'auto_delete_disks': True, 'aux': None, 'clock_divisor': 8, 'disk0': 0, 'disk1': 0, 'dynamips_id': 1, 'exec_area': 64, 'idlemax': 500, 'idlepc': '0x60c086a8', 'idlesleep': 30, 'image': 'c3725-adventerprisek9-mz.124-15.T14.image', 'image_md5sum': '64f8c427ed48fd21bd02cf1ff254c4eb', 'iomem': 5, 'mac_addr': 'c201.0610.0000', 'mmap': True, 'nvram': 256, 'platform': 'c3725', 'ram': 128, 'slot0': 'GT96100-FE', 'slot1': None, 'slot2': None, 'sparsemem': True, 'system_id': 'FTX0945W0MY', 'usage': '', 'wic0': None, 'wic1': None, 'wic2': None}\n",
      "status started\n",
      "symbol :/symbols/router.svg\n",
      "template_id 10403eaf-5d08-46e5-9dbf-b50e696daa70\n",
      "width 66\n",
      "x -104\n",
      "y -83\n",
      "z 1\n"
     ]
    }
   ],
   "source": [
    "for n in r.get(url='http://localhost:3080/v2/projects/8ee085ac-1575-47ba-a160-29195c589742/nodes').json():\n",
    "    if n['name'] == 'R1':\n",
    "        for k,v in n.items():\n",
    "            print(k ,v)"
   ]
  },
  {
   "cell_type": "code",
   "execution_count": 84,
   "metadata": {},
   "outputs": [
    {
     "name": "stdout",
     "output_type": "stream",
     "text": [
      "[\n",
      "    {\n",
      "        \"auto_close\": true,\n",
      "        \"auto_open\": false,\n",
      "        \"auto_start\": false,\n",
      "        \"drawing_grid_size\": 25,\n",
      "        \"filename\": \"p.gns3\",\n",
      "        \"grid_size\": 75,\n",
      "        \"name\": \"p\",\n",
      "        \"path\": \"C:\\\\Users\\\\Junk\\\\GNS3\\\\projects\\\\p\",\n",
      "        \"project_id\": \"8ee085ac-1575-47ba-a160-29195c589742\",\n",
      "        \"scene_height\": 1000,\n",
      "        \"scene_width\": 2000,\n",
      "        \"show_grid\": false,\n",
      "        \"show_interface_labels\": false,\n",
      "        \"show_layers\": false,\n",
      "        \"snap_to_grid\": false,\n",
      "        \"status\": \"opened\",\n",
      "        \"supplier\": null,\n",
      "        \"variables\": null,\n",
      "        \"zoom\": 100\n",
      "    }\n",
      "]\n"
     ]
    }
   ],
   "source": [
    "print(r.get(url='http://localhost:80/v2/projects').text)"
   ]
  }
 ],
 "metadata": {
  "kernelspec": {
   "display_name": "Python 3",
   "language": "python",
   "name": "python3"
  },
  "language_info": {
   "codemirror_mode": {
    "name": "ipython",
    "version": 3
   },
   "file_extension": ".py",
   "mimetype": "text/x-python",
   "name": "python",
   "nbconvert_exporter": "python",
   "pygments_lexer": "ipython3",
   "version": "3.9.9"
  }
 },
 "nbformat": 4,
 "nbformat_minor": 0
}
